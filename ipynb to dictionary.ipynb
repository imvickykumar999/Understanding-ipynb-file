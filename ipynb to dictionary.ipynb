{
 "cells": [
  {
   "cell_type": "markdown",
   "metadata": {},
   "source": [
    "# [Researching and Understanding behaviour of ipynb file](https://raw.githubusercontent.com/imvickykumar999/understanding-ipynb-file/main/screenshot.png?style=centerme)\n",
    "\n",
    "[![python ipynb.py](https://raw.githubusercontent.com/imvickykumar999/Understanding-ipynb-file/main/exe_ss.png)](https://github.com/imvickykumar999/Understanding-ipynb-file/blob/main/ipynb.py)"
   ]
  },
  {
   "cell_type": "code",
   "execution_count": 1,
   "metadata": {},
   "outputs": [],
   "source": [
    "import ast, json\n",
    "import urllib.request as ur"
   ]
  },
  {
   "cell_type": "code",
   "execution_count": 2,
   "metadata": {},
   "outputs": [],
   "source": [
    "def recdict(d):\n",
    "    print('\\n.................................................WELCOME......................................................\\n')\n",
    "    key = list(d.keys())\n",
    "    lenkey = len(key)\n",
    "    value = list(d.values())\n",
    "    \n",
    "    for i in value:\n",
    "        typei = type(i)\n",
    "        print(typei)\n",
    "        print(i)\n",
    "        print()\n",
    "        \n",
    "        if typei == list:\n",
    "            for j in i:\n",
    "                typej = type(j)\n",
    "                if typej == dict:\n",
    "                    recdict(j)\n",
    "                    print('\\n...................welcome back...................\\n')\n",
    "                    \n",
    "        if typei == dict:\n",
    "            recdict(i)\n",
    "            print('\\n...................welcome back...................\\n')\n",
    "\n",
    "    return key"
   ]
  },
  {
   "cell_type": "code",
   "execution_count": 3,
   "metadata": {},
   "outputs": [],
   "source": [
    "def call():\n",
    "    file_name = input('Enter : ')\n",
    "\n",
    "    if 'http' == file_name[0:4]:\n",
    "        print('\\nPlease WAIT, content is loading from URL...\\n')\n",
    "        u = ur.urlopen(str(file_name)).read()\n",
    "        su = u.decode('ascii')\n",
    "\n",
    "    elif '{' == file_name[0]:\n",
    "        su = file_name\n",
    "\n",
    "    elif '\\\\' or '/' in file_name:\n",
    "        su = open(file_name).read()\n",
    "\n",
    "    try:\n",
    "        y = json.loads(str(su))\n",
    "    except:\n",
    "        y = su\n",
    "\n",
    "    data = ast.literal_eval(str(y))\n",
    "    return data"
   ]
  },
  {
   "cell_type": "code",
   "execution_count": 4,
   "metadata": {},
   "outputs": [
    {
     "name": "stdout",
     "output_type": "stream",
     "text": [
      "Enter : {'a':1,'b':2}\n",
      "\n",
      ".................................................WELCOME......................................................\n",
      "\n",
      "<class 'int'>\n",
      "1\n",
      "\n",
      "<class 'int'>\n",
      "2\n",
      "\n"
     ]
    },
    {
     "data": {
      "text/plain": [
       "['a', 'b']"
      ]
     },
     "execution_count": 4,
     "metadata": {},
     "output_type": "execute_result"
    }
   ],
   "source": [
    "recdict(call()) # dict input = {'a':1,'b':2}"
   ]
  },
  {
   "cell_type": "code",
   "execution_count": 5,
   "metadata": {},
   "outputs": [
    {
     "name": "stdout",
     "output_type": "stream",
     "text": [
      "Enter : https://raw.githubusercontent.com/imvickykumar999/Understanding-ipynb-file/main/dict.txt\n",
      "\n",
      "Please WAIT, content is loading from URL...\n",
      "\n",
      "\n",
      ".................................................WELCOME......................................................\n",
      "\n",
      "<class 'int'>\n",
      "1\n",
      "\n",
      "<class 'int'>\n",
      "2\n",
      "\n"
     ]
    },
    {
     "data": {
      "text/plain": [
       "['a', 'b']"
      ]
     },
     "execution_count": 5,
     "metadata": {},
     "output_type": "execute_result"
    }
   ],
   "source": [
    "recdict(call()) # web ipynb url = https://raw.githubusercontent.com/imvickykumar999/Understanding-ipynb-file/main/dict.txt"
   ]
  },
  {
   "cell_type": "code",
   "execution_count": 7,
   "metadata": {},
   "outputs": [
    {
     "name": "stdout",
     "output_type": "stream",
     "text": [
      "Enter : C:\\Users\\Vicky\\Desktop\\python\\jupyter notebook\\env\\python-data-cleaning-master\\dict.txt\n",
      "\n",
      ".................................................WELCOME......................................................\n",
      "\n",
      "<class 'int'>\n",
      "1\n",
      "\n",
      "<class 'int'>\n",
      "2\n",
      "\n"
     ]
    },
    {
     "data": {
      "text/plain": [
       "['a', 'b']"
      ]
     },
     "execution_count": 7,
     "metadata": {},
     "output_type": "execute_result"
    }
   ],
   "source": [
    "recdict(call()) # local ipynb file = C:\\Users\\Vicky\\Desktop\\python\\jupyter notebook\\env\\python-data-cleaning-master\\dict.txt"
   ]
  },
  {
   "cell_type": "code",
   "execution_count": 8,
   "metadata": {
    "scrolled": false
   },
   "outputs": [
    {
     "name": "stdout",
     "output_type": "stream",
     "text": [
      "Enter : {  \"cells\": [   {    \"cell_type\": \"code\",    \"execution_count\": 1,    \"metadata\": {},    \"outputs\": [],    \"source\": [     \"a = 1\"    ]   },   {    \"cell_type\": \"code\",    \"execution_count\": 2,    \"metadata\": {},    \"outputs\": [     {      \"data\": {       \"text/plain\": [        \"(1, 2, 3)\"       ]      },      \"execution_count\": 2,      \"metadata\": {},      \"output_type\": \"execute_result\"     }    ],    \"source\": [     \"b = 2\\n\",     \"c = 3\\n\",     \"\\n\",     \"a,b,c\"    ]   },   {    \"cell_type\": \"code\",    \"execution_count\": null,    \"metadata\": {},    \"outputs\": [],    \"source\": []   }  ],  \"metadata\": {   \"kernelspec\": {    \"display_name\": \"Python 3\",    \"language\": \"python\",    \"name\": \"python3\"   },   \"language_info\": {    \"codemirror_mode\": {     \"name\": \"ipython\",     \"version\": 3    },    \"file_extension\": \".py\",    \"mimetype\": \"text/x-python\",    \"name\": \"python\",    \"nbconvert_exporter\": \"python\",    \"pygments_lexer\": \"ipython3\",    \"version\": \"3.8.3\"   }  },  \"nbformat\": 4,  \"nbformat_minor\": 4 }\n",
      "\n",
      ".................................................WELCOME......................................................\n",
      "\n",
      "<class 'list'>\n",
      "[{'cell_type': 'code', 'execution_count': 1, 'metadata': {}, 'outputs': [], 'source': ['a = 1']}, {'cell_type': 'code', 'execution_count': 2, 'metadata': {}, 'outputs': [{'data': {'text/plain': ['(1, 2, 3)']}, 'execution_count': 2, 'metadata': {}, 'output_type': 'execute_result'}], 'source': ['b = 2\\n', 'c = 3\\n', '\\n', 'a,b,c']}, {'cell_type': 'code', 'execution_count': None, 'metadata': {}, 'outputs': [], 'source': []}]\n",
      "\n",
      "\n",
      ".................................................WELCOME......................................................\n",
      "\n",
      "<class 'str'>\n",
      "code\n",
      "\n",
      "<class 'int'>\n",
      "1\n",
      "\n",
      "<class 'dict'>\n",
      "{}\n",
      "\n",
      "\n",
      ".................................................WELCOME......................................................\n",
      "\n",
      "\n",
      "...................welcome back...................\n",
      "\n",
      "<class 'list'>\n",
      "[]\n",
      "\n",
      "<class 'list'>\n",
      "['a = 1']\n",
      "\n",
      "\n",
      "...................welcome back...................\n",
      "\n",
      "\n",
      ".................................................WELCOME......................................................\n",
      "\n",
      "<class 'str'>\n",
      "code\n",
      "\n",
      "<class 'int'>\n",
      "2\n",
      "\n",
      "<class 'dict'>\n",
      "{}\n",
      "\n",
      "\n",
      ".................................................WELCOME......................................................\n",
      "\n",
      "\n",
      "...................welcome back...................\n",
      "\n",
      "<class 'list'>\n",
      "[{'data': {'text/plain': ['(1, 2, 3)']}, 'execution_count': 2, 'metadata': {}, 'output_type': 'execute_result'}]\n",
      "\n",
      "\n",
      ".................................................WELCOME......................................................\n",
      "\n",
      "<class 'dict'>\n",
      "{'text/plain': ['(1, 2, 3)']}\n",
      "\n",
      "\n",
      ".................................................WELCOME......................................................\n",
      "\n",
      "<class 'list'>\n",
      "['(1, 2, 3)']\n",
      "\n",
      "\n",
      "...................welcome back...................\n",
      "\n",
      "<class 'int'>\n",
      "2\n",
      "\n",
      "<class 'dict'>\n",
      "{}\n",
      "\n",
      "\n",
      ".................................................WELCOME......................................................\n",
      "\n",
      "\n",
      "...................welcome back...................\n",
      "\n",
      "<class 'str'>\n",
      "execute_result\n",
      "\n",
      "\n",
      "...................welcome back...................\n",
      "\n",
      "<class 'list'>\n",
      "['b = 2\\n', 'c = 3\\n', '\\n', 'a,b,c']\n",
      "\n",
      "\n",
      "...................welcome back...................\n",
      "\n",
      "\n",
      ".................................................WELCOME......................................................\n",
      "\n",
      "<class 'str'>\n",
      "code\n",
      "\n",
      "<class 'NoneType'>\n",
      "None\n",
      "\n",
      "<class 'dict'>\n",
      "{}\n",
      "\n",
      "\n",
      ".................................................WELCOME......................................................\n",
      "\n",
      "\n",
      "...................welcome back...................\n",
      "\n",
      "<class 'list'>\n",
      "[]\n",
      "\n",
      "<class 'list'>\n",
      "[]\n",
      "\n",
      "\n",
      "...................welcome back...................\n",
      "\n",
      "<class 'dict'>\n",
      "{'kernelspec': {'display_name': 'Python 3', 'language': 'python', 'name': 'python3'}, 'language_info': {'codemirror_mode': {'name': 'ipython', 'version': 3}, 'file_extension': '.py', 'mimetype': 'text/x-python', 'name': 'python', 'nbconvert_exporter': 'python', 'pygments_lexer': 'ipython3', 'version': '3.8.3'}}\n",
      "\n",
      "\n",
      ".................................................WELCOME......................................................\n",
      "\n",
      "<class 'dict'>\n",
      "{'display_name': 'Python 3', 'language': 'python', 'name': 'python3'}\n",
      "\n",
      "\n",
      ".................................................WELCOME......................................................\n",
      "\n",
      "<class 'str'>\n",
      "Python 3\n",
      "\n",
      "<class 'str'>\n",
      "python\n",
      "\n",
      "<class 'str'>\n",
      "python3\n",
      "\n",
      "\n",
      "...................welcome back...................\n",
      "\n",
      "<class 'dict'>\n",
      "{'codemirror_mode': {'name': 'ipython', 'version': 3}, 'file_extension': '.py', 'mimetype': 'text/x-python', 'name': 'python', 'nbconvert_exporter': 'python', 'pygments_lexer': 'ipython3', 'version': '3.8.3'}\n",
      "\n",
      "\n",
      ".................................................WELCOME......................................................\n",
      "\n",
      "<class 'dict'>\n",
      "{'name': 'ipython', 'version': 3}\n",
      "\n",
      "\n",
      ".................................................WELCOME......................................................\n",
      "\n",
      "<class 'str'>\n",
      "ipython\n",
      "\n",
      "<class 'int'>\n",
      "3\n",
      "\n",
      "\n",
      "...................welcome back...................\n",
      "\n",
      "<class 'str'>\n",
      ".py\n",
      "\n",
      "<class 'str'>\n",
      "text/x-python\n",
      "\n",
      "<class 'str'>\n",
      "python\n",
      "\n",
      "<class 'str'>\n",
      "python\n",
      "\n",
      "<class 'str'>\n",
      "ipython3\n",
      "\n",
      "<class 'str'>\n",
      "3.8.3\n",
      "\n",
      "\n",
      "...................welcome back...................\n",
      "\n",
      "\n",
      "...................welcome back...................\n",
      "\n",
      "<class 'int'>\n",
      "4\n",
      "\n",
      "<class 'int'>\n",
      "4\n",
      "\n"
     ]
    },
    {
     "data": {
      "text/plain": [
       "['cells', 'metadata', 'nbformat', 'nbformat_minor']"
      ]
     },
     "execution_count": 8,
     "metadata": {},
     "output_type": "execute_result"
    }
   ],
   "source": [
    "recdict(call()) # ipynb content at https://raw.githubusercontent.com/imvickykumar999/Understanding-ipynb-file/main/Sample%20ipynb%20file.ipynb"
   ]
  },
  {
   "cell_type": "code",
   "execution_count": null,
   "metadata": {},
   "outputs": [],
   "source": []
  }
 ],
 "metadata": {
  "kernelspec": {
   "display_name": "Python 3",
   "language": "python",
   "name": "python3"
  },
  "language_info": {
   "codemirror_mode": {
    "name": "ipython",
    "version": 3
   },
   "file_extension": ".py",
   "mimetype": "text/x-python",
   "name": "python",
   "nbconvert_exporter": "python",
   "pygments_lexer": "ipython3",
   "version": "3.8.3"
  }
 },
 "nbformat": 4,
 "nbformat_minor": 4
}
